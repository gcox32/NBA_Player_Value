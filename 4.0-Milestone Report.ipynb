{
 "cells": [
  {
   "cell_type": "markdown",
   "metadata": {},
   "source": [
    "# 1 Introduction\n",
    "\n"
   ]
  },
  {
   "cell_type": "markdown",
   "metadata": {},
   "source": [
    "### 1.0.1 Imports"
   ]
  },
  {
   "cell_type": "code",
   "execution_count": 1,
   "metadata": {},
   "outputs": [],
   "source": [
    "import numpy as np\n",
    "import pandas as pd\n",
    "import matplotlib.pyplot as plt\n",
    "import seaborn as sns\n",
    "from scipy import stats"
   ]
  },
  {
   "cell_type": "markdown",
   "metadata": {},
   "source": [
    "### 1.0.2 Data"
   ]
  },
  {
   "cell_type": "code",
   "execution_count": 2,
   "metadata": {},
   "outputs": [],
   "source": [
    "players = pd.read_csv('data/processed/players_final.csv')\n",
    "teams = pd.read_csv('data/processed/teams_final.csv')\n",
    "teams.drop('Unnamed: 0', axis = 1, inplace = True)"
   ]
  },
  {
   "cell_type": "markdown",
   "metadata": {
    "heading_collapsed": true
   },
   "source": [
    "## 1.1 [Webscraping](https://github.com/gcox32/NBA_Player_Value/tree/master/webscrape)"
   ]
  },
  {
   "attachments": {},
   "cell_type": "markdown",
   "metadata": {
    "hidden": true
   },
   "source": [
    "- The data was acquired via webscraping a few different websites using the BeautifulSoup package.\n",
    "- Data was drawn across multiple websites and many different urls within each website. \n",
    "- Player data was a composite dataset of “per 100 possessions” stats, advanced stats, and shooting stats from basketball-reference.com, as well as salary stats from hoopshype.com.\n",
    "- Team data was also a composite dataset of win-loss data and advanced statistics pulled from basketball-reference.com as well."
   ]
  },
  {
   "cell_type": "markdown",
   "metadata": {
    "hidden": true
   },
   "source": [
    "### 1.1.1 [pergame Webscrape](https://github.com/gcox32/NBA_Player_Value/blob/master/webscrape/1.1-per_game%20Webscrape.ipynb)\n",
    "\n",
    "### 1.1.2 [per100 Webscrape](https://github.com/gcox32/NBA_Player_Value/blob/master/webscrape/1.2-per_100%20Webscrape.ipynb)\n",
    "\n",
    "### 1.1.3 [shooting Webscrape](https://github.com/gcox32/NBA_Player_Value/blob/master/webscrape/1.3-shooting%20Webscrape.ipynb)\n",
    "\n",
    "### 1.1.4 [salary data Webscrape](https://github.com/gcox32/NBA_Player_Value/blob/master/webscrape/1.4-salary%20Webscrape.ipynb)\n",
    "\n",
    "### 1.1.5 [team data Webscrape](https://github.com/gcox32/NBA_Player_Value/blob/master/webscrape/1.5-team%20Webscrape.ipynb)"
   ]
  },
  {
   "cell_type": "markdown",
   "metadata": {},
   "source": [
    "# 2 Data Wrangling and LDA"
   ]
  },
  {
   "attachments": {},
   "cell_type": "markdown",
   "metadata": {},
   "source": [
    "## 2.1 [Data Wrangling](https://github.com/gcox32/NBA_Player_Value/blob/master/2.0-Player-level%20Data%20Wrangling.ipynb)\n",
    "\n",
    "- The bulk of the data wrangling needed for the player and team data was performed during the webscraping loops—each loop spit out list of pandas DataFrames that would ultimately be concatenated.\n",
    "- After the webscraping, the majority of wrangling that remained for this data was simply structuring DataFrames such that they could be merged together using pandas merge.\n",
    "- The data that needed the most cleaning was the salary data from hoopshype.com. For example, a datapoint we might read as\"20000000” was actually written in the HTML as “\\n\\t\\t\\t20,000,000\\t\\t\\t\\n”—a very messy string.\n",
    "    - This required me to identify the characters that needed to be dropped before changing the datatype to something we could manipulate (i.e. string to float/integer)."
   ]
  },
  {
   "cell_type": "code",
   "execution_count": 6,
   "metadata": {},
   "outputs": [
    {
     "name": "stdout",
     "output_type": "stream",
     "text": [
      "Couldn't find program: 'false'\n"
     ]
    }
   ],
   "source": [
    "%%script false\n",
    "# example of data cleaning from salary data webscrape\n",
    "\n",
    "salaries = [[td.getText() for td in rows[i].findAll('td')]\n",
    "            for i in range(len(rows))]\n",
    "\n",
    "step_two = [i[1] for i in salaries]\n",
    "\n",
    "step_three = [i.replace('\\n\\n\\t\\t\\t\\t\\t\\t\\t\\t','') for i in step_two]\n",
    "names = [i.replace('\\t\\t\\t\\t\\t\\t\\t\\n','') for i in step_three]\n",
    "\n",
    "step_two = [i[2] for i in salaries]\n",
    "\n",
    "step_three = [i.replace('\\n\\t\\t\\t\\t\\t\\t\\t$','') for i in step_two]\n",
    "step_four = [i.replace('\\t\\t\\t\\t\\t\\t','') for i in step_three]\n",
    "money = list(pd.to_numeric([i.replace(',','') for i in step_four]))"
   ]
  },
  {
   "cell_type": "markdown",
   "metadata": {},
   "source": [
    "- The data from basketball-reference.com was for the most part very clean, handling null values was an important component of this project. Depending on the feature, some data was filled using the population mean, and for some data, a null value in the wrong feature meant dropping the record entirely."
   ]
  },
  {
   "cell_type": "code",
   "execution_count": null,
   "metadata": {},
   "outputs": [],
   "source": [
    "%%script false\n",
    "# example of handling nulls using feature mean\n",
    "\n",
    "players1980 = pergame[pergame.Year == 1980]\n",
    "players1979 = pergame[pergame.Year == 1979]\n",
    "players1980.GS.isnull().sum(), players1979.GS.isnull().sum()\n",
    "\n",
    "next3 = pergame[(pergame.Year >= 1981) & (pergame.Year < 1984)]\n",
    "Gmean = np.mean(next3.G)\n",
    "GSmean = np.mean(next3.GS)\n",
    "ratio = GSmean/Gmean\n",
    "print('ratio of Games Started to Games Played:',round(ratio,2))\n",
    "\n",
    "pergame['GS'] = pergame.apply(\n",
    "    lambda row: round(row['G'] * ratio,1) if np.isnan(row['GS']) and row['G'] < 60 else row['GS'],\n",
    "    axis=1\n",
    ")\n",
    "pergame['GS'] = pergame['GS'].fillna(pergame['G'] - 5)"
   ]
  },
  {
   "cell_type": "markdown",
   "metadata": {},
   "source": [
    "## 2.2 [Player-level LDA](https://github.com/gcox32/NBA_Player_Value/blob/master/2.1-Player-level%20LDA.ipynb)"
   ]
  },
  {
   "attachments": {},
   "cell_type": "markdown",
   "metadata": {},
   "source": [
    "One of our primary objectives was to accurately determine player value. In order to best do this, it was necessary to distinguish differences between players who are listed as similar. Our hypothesis was that there is a more robust method for describing a player’s position than just as one of five positions (point guard, shooting guard, small forward, power forward, or center).\n",
    "<br><br>For example, compare the play styles of Ben Simmons and Steph Curry. Both are listed as Point Guards, but their contributions could not look more different. \n",
    "<br><br>In order to do this, we used our extensive player-level data (per 100 possessions stats, advanced stats, and shooting stats) to cluster players into 8 distinct positions that better described their contributions to the team."
   ]
  },
  {
   "cell_type": "code",
   "execution_count": null,
   "metadata": {},
   "outputs": [],
   "source": [
    "%%script false\n",
    "\n",
    "# Dimensionality Reduction with PCA\n",
    "\n",
    "pca = PCA(n_components=2)\n",
    "pca.fit(X_scaled)\n",
    "\n",
    "X_pca = pca.transform(X_scaled)\n",
    "print(\"Cumulative Explained Variance using PCA:\",\n",
    "      round(pca.explained_variance_ratio_.sum(), 3))\n",
    "\n",
    "# cumulative explained variance using PCA was 0.46"
   ]
  },
  {
   "cell_type": "code",
   "execution_count": null,
   "metadata": {},
   "outputs": [],
   "source": [
    "%%script false\n",
    "# Dimentionality Reduction with LDA\n",
    "\n",
    "LDA = LinearDiscriminantAnalysis(\n",
    "    n_components=2, shrinkage='auto', solver='eigen')\n",
    "\n",
    "LDA_reduced_df = LDA.fit(X_scaled, y).transform(X_scaled)\n",
    "\n",
    "print(\"Mean accuracy on the given test data and labels with LDA:\",\n",
    "      LDA.score(X_scaled, y))\n",
    "\n",
    "# Mean accuracy on the given test data and labels with LDA was 0.72"
   ]
  },
  {
   "cell_type": "code",
   "execution_count": null,
   "metadata": {},
   "outputs": [],
   "source": [
    "%%script false\n",
    "# kmeans clustering where n = 8\n",
    "\n",
    "kmeans = cluster.KMeans(n_clusters = n, random_state = 23)\n",
    "kmeans = kmeans.fit(LDA_reduced_df)\n",
    "labels = kmeans.labels_\n",
    "centroids = kmeans.cluster_centers_\n",
    "\n",
    "centroid_x = [coord[0] for coord in centroids]\n",
    "centroid_y = [coord[1] for coord in centroids]\n",
    "\n",
    "intertia = kmeans.inertia_\n",
    "sil_score = metrics.silhouette_score(LDA_reduced_df, kmeans.labels_, metric = 'euclidean')\n",
    "\n",
    "data['cluster'] = labels\n",
    "one = [value[0] for value in LDA_reduced_df]\n",
    "two = [value[1] for value in LDA_reduced_df]\n",
    "data['one'] = one\n",
    "data['two'] = two"
   ]
  },
  {
   "cell_type": "markdown",
   "metadata": {},
   "source": [
    "<img src=\"assets/LDA New Positions.png\">"
   ]
  },
  {
   "cell_type": "markdown",
   "metadata": {},
   "source": [
    "# 3 Exploratory Data Analysis and Inferential Statistics"
   ]
  },
  {
   "cell_type": "markdown",
   "metadata": {
    "heading_collapsed": true
   },
   "source": [
    "### 3.0.1 [lib\\](https://github.com/gcox32/NBA_Player_Value/tree/master/lib)"
   ]
  },
  {
   "attachments": {},
   "cell_type": "markdown",
   "metadata": {},
   "source": [
    "## 3.1 [Team-level EDA](https://github.com/gcox32/NBA_Player_Value/blob/master/3.1-Team-level%20EDA.ipynb)\n",
    "\n",
    "- On the team-level, we wanted to identify success, so that required of us that we define our terms.\n",
    "- “Success” for the scope of this project equated to making playoffs, or even better, making the playoffs with a good seeding (1st through 4th).\n",
    "\n",
    "<img src=\"assets/playoffteams.png\">"
   ]
  },
  {
   "cell_type": "markdown",
   "metadata": {},
   "source": [
    "A simple logistic regression also displayed our win count goal:\n",
    "\n",
    "<img src=\"assets/logregression_playoffs.png\">"
   ]
  },
  {
   "cell_type": "markdown",
   "metadata": {},
   "source": [
    "## 3.2 [Player Salary EDA](https://github.com/gcox32/NBA_Player_Value/blob/master/3.2-Salary%20EDA.ipynb)\n",
    "\n",
    "As far as Exploratory Data Analysis goes on the player level, we really began to dive into the differences in compensation between clusters as well as differences in important features between clusters. This obviously led into our inferential statistics to test if differences were significant."
   ]
  },
  {
   "cell_type": "code",
   "execution_count": 8,
   "metadata": {},
   "outputs": [
    {
     "name": "stdout",
     "output_type": "stream",
     "text": [
      "Correlates of salary:\n"
     ]
    },
    {
     "data": {
      "text/plain": [
       "salary    1.000000\n",
       "PER       0.454870\n",
       "PTS       0.442607\n",
       "FG        0.421706\n",
       "USG%      0.412066\n",
       "BPM       0.388022\n",
       "VORP      0.387593\n",
       "FGA       0.383824\n",
       "WS        0.366596\n",
       "OBPM      0.358624\n",
       "Name: salary, dtype: float64"
      ]
     },
     "execution_count": 8,
     "metadata": {},
     "output_type": "execute_result"
    }
   ],
   "source": [
    "print('Correlates of salary:')\n",
    "\n",
    "players.corr().loc[:,'salary'].sort_values(ascending = False)[:10]"
   ]
  },
  {
   "cell_type": "code",
   "execution_count": 9,
   "metadata": {},
   "outputs": [
    {
     "data": {
      "image/png": "[encoded data removed]",
      "text/plain": [
       "<Figure size 1440x432 with 2 Axes>"
      ]
     },
     "metadata": {
      "needs_background": "light"
     },
     "output_type": "display_data"
    }
   ],
   "source": [
    "feature = 'salary'\n",
    "\n",
    "feature2 = 'BPM'\n",
    "\n",
    "plt.subplots(nrows = 1, ncols = 2, figsize = (20,6))\n",
    "\n",
    "plt.subplot(121)\n",
    "players.groupby('cluster', sort = False).mean()[feature].plot(kind = 'bar')\n",
    "plt.ylabel('Year Salary in 10s of Millions')\n",
    "plt.title(feature.upper()+' Comparison Across Clusters')\n",
    "\n",
    "plt.subplot(122)\n",
    "players.groupby('cluster', sort = False).mean()[feature2].plot(kind = 'bar')\n",
    "plt.title(feature2.upper()+' Comparison Across Clusters')\n",
    "plt.show()"
   ]
  },
  {
   "cell_type": "markdown",
   "metadata": {},
   "source": [
    "<img src=\"assets/clustersalaries.png\">"
   ]
  },
  {
   "cell_type": "markdown",
   "metadata": {},
   "source": [
    "## 3.3 [Inferential Statistics](https://github.com/gcox32/NBA_Player_Value/blob/master/3.3-Inferential%20Statistics.ipynb)"
   ]
  },
  {
   "cell_type": "markdown",
   "metadata": {},
   "source": [
    "With our team-level inferential statistics, two sample t-tests of independence showed us that money doesn't buy wins--at least not at a statistically significant level. The differences in mean Win count for teams paying over 120% of the salary cap for any given year, and teams paying under 120% of the salary cap for any given year varied greatly--44 and 38, respectively. \n",
    "\n",
    "- However, when we sampled from these groups and ran a few t-tests (read: ten thousand t-tests), we saw that that this difference was not in fact significant at even a 0.10 confidence. The resultant p-values were plotted in the histogram (bottom).\n"
   ]
  },
  {
   "cell_type": "code",
   "execution_count": null,
   "metadata": {},
   "outputs": [],
   "source": [
    "%%script false\n",
    "\n",
    "# demonstration of conducting 10,000 t-tests for independence\n",
    "\n",
    "teams_T_list = []\n",
    "teams_p_list = []\n",
    "for i in tqdm(range(10000)):\n",
    "    over_samp = sample(list(over.W), 30)\n",
    "    under_samp = sample(list(under.W), 30)\n",
    "    T, p = stats.ttest_ind(over_samp,\n",
    "                           under_samp,\n",
    "                           equal_var=False)\n",
    "    teams_T_list.append(T)\n",
    "    teams_p_list.append(p)"
   ]
  },
  {
   "attachments": {},
   "cell_type": "markdown",
   "metadata": {},
   "source": [
    "We also scanned for statistically significant differences in 6 different features across 8 subsets of the data, using 10,000 t-tests each time (48,000 in total) in about 2.5 minutes.\n",
    "From this scan, we learned the following:\n",
    "- the \"Lockdown\" cluster was flagged for statistically lower mean Player Efficiency Rating (PER)\n",
    "- \"Rim Protectors\" were flagged for having statistically lower mean Usage Rate (USG%)\n",
    "- \"Combo Guards\" were conversely flagged for statistically higher mean Usage Rate\n",
    "- \"Rim Protectors\" were the only cluster with a significant difference (lower) in Points Scored (PTS)"
   ]
  },
  {
   "cell_type": "code",
   "execution_count": null,
   "metadata": {},
   "outputs": [],
   "source": [
    "%%script false\n",
    "\n",
    "# demonstration of using power of for loops to conduct 10,000 one sample t-tests \n",
    "# across 8 samples and 6 features for a total of 48,000 loops\n",
    "\n",
    "clusterlist = players.cluster.unique()\n",
    "value_stats = ['PER', 'WS', 'BPM', 'VORP', 'USG%', 'PTS']\n",
    "confidence = 0.05 * 2\n",
    "\n",
    "for h in value_stats:\n",
    "    \n",
    "    pop_mean = np.mean(players[h])\n",
    "\n",
    "    for i in tqdm(clusterlist):\n",
    "\n",
    "        players_T_list = []\n",
    "        players_p_list = []\n",
    "        cluster = list(players[players.cluster == i][h])\n",
    "\n",
    "        for j in range(10000):\n",
    "\n",
    "            cluster_samp = sample(cluster, 30)\n",
    "            T, p = stats.ttest_1samp(cluster_samp, pop_mean)\n",
    "            players_T_list.append(T)\n",
    "            players_p_list.append(p)\n",
    "\n",
    "        T = np.mean(players_T_list)\n",
    "        p = np.mean(players_p_list)\n",
    "\n",
    "        if p <= confidence:\n",
    "            print('Cluster: {};\\tValue Stat: {}'.format(i, h))\n",
    "            print('Sample mean {}:'.format(h), round(np.mean(cluster_samp),\n",
    "                                                     2), 'Population mean {}:'.format(h), round(pop_mean, 2))\n",
    "            print('Test statistic (T):', round(T, 2), 'p-value:', round(p, 3))\n",
    "            print('Reject the null. Significant difference in mean {} between population and the {} cluster.'.format(h, i))\n",
    "            if T < 0:\n",
    "                print('For the {} cluster, mean {} is lower than the league average.'.format(i, h))\n",
    "            else:\n",
    "                print('For the {} cluster, mean {} is above the league average.'.format(i, h))\n"
   ]
  },
  {
   "attachments": {},
   "cell_type": "markdown",
   "metadata": {},
   "source": [
    "# 4 Conclusions and Next Steps\n",
    "\n",
    "1. Certain clusters are probably more valuable than others, objectively, meaning our LDA and clustering was at least worth it in that regard.\n",
    "2. Inferential statistics showed us that, at least at the 120% of the salary cap mark, spending more doesn’t result in significantly more wins than spending less.\n",
    "3. Making recommendations will greatly on a deep understanding of our features; a few factors have emerged that are slowing us down:\n",
    "    - Early regression analysis has proven fruitless—salary is not simple to predict based purely on the composite of many features.\n",
    "    - There is not a consistent value system currently in place from team to team, and certainly not from year to year."
   ]
  }
 ],
 "metadata": {
  "kernelspec": {
   "display_name": "Python 3",
   "language": "python",
   "name": "python3"
  },
  "language_info": {
   "codemirror_mode": {
    "name": "ipython",
    "version": 3
   },
   "file_extension": ".py",
   "mimetype": "text/x-python",
   "name": "python",
   "nbconvert_exporter": "python",
   "pygments_lexer": "ipython3",
   "version": "3.7.1"
  }
 },
 "nbformat": 4,
 "nbformat_minor": 2
}
