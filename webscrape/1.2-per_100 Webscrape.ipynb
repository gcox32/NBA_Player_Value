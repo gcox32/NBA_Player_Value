{
 "cells": [
  {
   "cell_type": "markdown",
   "metadata": {},
   "source": []
  },
  {
   "cell_type": "markdown",
   "metadata": {},
   "source": [
    "[Basketball Reference](https://www.basketball-reference.com \"Basketball Reference\")"
   ]
  },
  {
   "cell_type": "code",
   "execution_count": null,
   "metadata": {},
   "outputs": [],
   "source": []
  },
  {
   "cell_type": "code",
   "execution_count": null,
   "metadata": {},
   "outputs": [],
   "source": []
  },
  {
   "cell_type": "code",
   "execution_count": 2,
   "metadata": {},
   "outputs": [],
   "source": [
    "from urllib.request import urlopen\n",
    "from bs4 import BeautifulSoup\n",
    "import pandas as pd\n",
    "from datetime import date\n",
    "from tqdm import tqdm\n",
    "import numpy as np"
   ]
  },
  {
   "cell_type": "code",
   "execution_count": 3,
   "metadata": {},
   "outputs": [],
   "source": [
    "# There is some debate as to when the modern era of basketball began. NBA modern era options:\n",
    "merger = 1977\n",
    "three_point = 1980\n",
    "unrestricted_fa = 1989\n",
    "bulls_breakup = 1999\n",
    "def_rule_change = 2001\n",
    "\n",
    "# current year and month\n",
    "c_year = date.today().year\n",
    "c_month = date.today().month\n",
    "\n",
    "# select year data for var 'begin'\n",
    "# as a default, 'begin' will be set as the year of the addition of the 3-point line (1979-1980 season)\n",
    "\n",
    "begin = three_point\n",
    "\n",
    "# select your end year\n",
    "# as a default, 'end' will be set as the current year (2019 at time of creation)\n",
    "\n",
    "if c_month > 10:\n",
    "    end = c_year + 1\n",
    "else:\n",
    "    end = c_year\n",
    "\n",
    "years = list(range(begin, end + 1))"
   ]
  },
  {
   "cell_type": "code",
   "execution_count": 4,
   "metadata": {},
   "outputs": [
    {
     "name": "stderr",
     "output_type": "stream",
     "text": [
      "100%|██████████████████████████████████████████████████████████████████████████████████| 40/40 [02:49<00:00,  3.65s/it]\n"
     ]
    }
   ],
   "source": [
    "dfs = []\n",
    "\n",
    "for year in tqdm(years):\n",
    "    # URL page we will scraping\n",
    "    url = \"https://www.basketball-reference.com/leagues/NBA_{}_per_poss.html\".format(year)\n",
    "    \n",
    "    # this is the HTML from the given URL\n",
    "    html = urlopen(url)\n",
    "    soup = BeautifulSoup(html)\n",
    "\n",
    "    # use findALL() to get the column headers\n",
    "    soup.findAll('tr', limit=2)\n",
    "\n",
    "    # use getText()to extract the text we need into a list\n",
    "    headers = [th.getText() for th in soup.findAll('tr', limit=2)[0].findAll('th')]\n",
    "\n",
    "    # exclude the first column as we will not need the ranking order from Basketball Reference for the analysis\n",
    "    headers = headers[1:]\n",
    "\n",
    "    # get the actual data\n",
    "    # avoid the first header row\n",
    "    rows = soup.findAll('tr')[1:]\n",
    "    player_stats = [[td.getText() for td in rows[i].findAll('td')]\n",
    "            for i in range(len(rows))]\n",
    "    \n",
    "    # append a list of player stats\n",
    "    year_stats = pd.DataFrame(player_stats, columns = headers)\n",
    "    \n",
    "    year_stats = year_stats.dropna(how='all')\n",
    "    \n",
    "    # add year columns\n",
    "    year_stats['Year'] = year - 1\n",
    "    \n",
    "    # append a list of dfs to be concatenated\n",
    "    dfs.append(year_stats)\n",
    "\n"
   ]
  },
  {
   "cell_type": "code",
   "execution_count": 5,
   "metadata": {},
   "outputs": [],
   "source": [
    "# concat all dfs to create stats df\n",
    "\n",
    "stats = pd.concat(dfs)\n",
    "\n",
    "# str split \"player\" into \"last name\" and \"first name\" for organization\n",
    "\n",
    "last_first = stats.Player.str.split(\" \", n = 1, expand = True)\n",
    "stats['First Name'] = last_first[0]\n",
    "stats['Last Name'] = last_first[1]\n",
    "stats = stats.rename(columns = {'Player':'Full Name'})\n",
    "\n",
    "# reorganize columns so that last name and first name come first before stats\n",
    "\n",
    "stats = stats[['Last Name','First Name', 'Full Name', 'Year', 'Pos', 'Age', 'Tm', \n",
    "               'G', 'GS', 'MP', 'FG', 'FGA', 'FG%', '3P','3PA', '3P%', '2P', '2PA',\n",
    "               '2P%', 'FT', 'FTA', 'FT%', 'ORB', 'DRB', 'TRB', 'AST', 'STL', 'BLK', \n",
    "               'TOV', 'PF', 'PTS', '', 'ORtg', 'DRtg']]"
   ]
  },
  {
   "cell_type": "code",
   "execution_count": 6,
   "metadata": {},
   "outputs": [],
   "source": [
    "stats = stats.sort_values(['Year', 'Last Name'], ascending = [False, True])"
   ]
  },
  {
   "cell_type": "code",
   "execution_count": 7,
   "metadata": {},
   "outputs": [
    {
     "name": "stderr",
     "output_type": "stream",
     "text": [
      "100%|██████████████████████████████████████████████████████████████████████████████████| 40/40 [02:21<00:00,  3.35s/it]\n"
     ]
    }
   ],
   "source": [
    "# Now we repeat the process to retrieve the advanced stats\n",
    "\n",
    "adv_dfs = []\n",
    "\n",
    "for year in tqdm(years):\n",
    "    # URL page we will scraping\n",
    "    url = \"https://www.basketball-reference.com/leagues/NBA_{}_advanced.html\".format(year)\n",
    "    \n",
    "    # this is the HTML from the given URL\n",
    "    html = urlopen(url)\n",
    "    soup = BeautifulSoup(html)\n",
    "\n",
    "    # use findALL() to get the column headers\n",
    "    soup.findAll('tr', limit=2)\n",
    "\n",
    "    # use getText()to extract the text we need into a list\n",
    "    headers = [th.getText() for th in soup.findAll('tr', limit=2)[0].findAll('th')]\n",
    "\n",
    "    # exclude the first column as we will not need the ranking order from Basketball Reference for the analysis\n",
    "    headers = headers[1:]\n",
    "\n",
    "    # get the actual data\n",
    "    # avoid the first header row\n",
    "    rows = soup.findAll('tr')[1:]\n",
    "    player_stats = [[td.getText() for td in rows[i].findAll('td')]\n",
    "            for i in range(len(rows))]\n",
    "    \n",
    "    # append a list of player stats\n",
    "    year_stats = pd.DataFrame(player_stats, columns = headers)\n",
    "    \n",
    "    year_stats = year_stats.dropna(how='all')\n",
    "    \n",
    "    # add year columns\n",
    "    year_stats['Year'] = year - 1\n",
    "    \n",
    "    # append a list of dfs to be concatenated\n",
    "    adv_dfs.append(year_stats)"
   ]
  },
  {
   "cell_type": "code",
   "execution_count": 8,
   "metadata": {},
   "outputs": [],
   "source": [
    "# concat all dfs to create advanced stats df\n",
    "\n",
    "adv_stats = pd.concat(adv_dfs)\n",
    "\n",
    "# str split \"player\" into \"last name\" and \"first name\" for organization\n",
    "\n",
    "last_first = adv_stats.Player.str.split(\" \", n = 1, expand = True)\n",
    "adv_stats['First Name'] = last_first[0]\n",
    "adv_stats['Last Name'] = last_first[1]\n",
    "adv_stats = adv_stats.rename(columns = {'Player':'Full Name'})"
   ]
  },
  {
   "cell_type": "code",
   "execution_count": 9,
   "metadata": {},
   "outputs": [],
   "source": [
    "# reorganize columns so that last name and first name come first before stats\n",
    "\n",
    "adv_stats = adv_stats[['Last Name', 'First Name', 'Full Name','Year', 'Pos', 'Age', 'Tm', 'G', 'MP',\n",
    "                       'PER', 'TS%', '3PAr', 'FTr', 'ORB%', 'DRB%', 'TRB%', 'AST%', 'STL%', \n",
    "                       'BLK%', 'TOV%', 'USG%', 'OWS', 'DWS', 'WS', 'WS/48', 'OBPM', \n",
    "                       'DBPM', 'BPM', 'VORP']]"
   ]
  },
  {
   "cell_type": "code",
   "execution_count": 10,
   "metadata": {},
   "outputs": [],
   "source": [
    "adv_stats = adv_stats.sort_values(['Year', 'Last Name'], ascending = [False, True])"
   ]
  },
  {
   "cell_type": "code",
   "execution_count": null,
   "metadata": {},
   "outputs": [],
   "source": []
  },
  {
   "cell_type": "code",
   "execution_count": 11,
   "metadata": {},
   "outputs": [
    {
     "data": {
      "text/plain": [
       "(20299, 54)"
      ]
     },
     "execution_count": 11,
     "metadata": {},
     "output_type": "execute_result"
    }
   ],
   "source": [
    "per_100 = pd.merge(stats, adv_stats, on = ['Last Name', 'First Name', 'Full Name','Year','Pos','Tm','Age','G','MP'])\n",
    "\n",
    "per_100.shape"
   ]
  },
  {
   "cell_type": "code",
   "execution_count": 12,
   "metadata": {},
   "outputs": [],
   "source": [
    "# This is a crucial step because until this point, there are a few columns where cells with\n",
    "# 'no information' are filled with a space (\" \") and thereby interpreted as a string--uncoerceable\n",
    "# to floats, as we need them to be for sorting\n",
    "\n",
    "per_100.replace(r'^\\s*$', np.nan, regex = True, inplace = True)"
   ]
  },
  {
   "cell_type": "code",
   "execution_count": 13,
   "metadata": {},
   "outputs": [
    {
     "data": {
      "text/plain": [
       "Index(['Last Name', 'First Name', 'Full Name', 'Year', 'Pos', 'Age', 'Tm', 'G',\n",
       "       'GS', 'MP', 'FG', 'FGA', 'FG%', '3P', '3PA', '3P%', '2P', '2PA', '2P%',\n",
       "       'FT', 'FTA', 'FT%', 'ORB', 'DRB', 'TRB', 'AST', 'STL', 'BLK', 'TOV',\n",
       "       'PF', 'PTS', '', 'ORtg', 'DRtg', 'PER', 'TS%', '3PAr', 'FTr', 'ORB%',\n",
       "       'DRB%', 'TRB%', 'AST%', 'STL%', 'BLK%', 'TOV%', 'USG%', 'OWS', 'DWS',\n",
       "       'WS', 'WS/48', 'OBPM', 'DBPM', 'BPM', 'VORP'],\n",
       "      dtype='object')"
      ]
     },
     "execution_count": 13,
     "metadata": {},
     "output_type": "execute_result"
    }
   ],
   "source": [
    "per_100.columns"
   ]
  },
  {
   "cell_type": "code",
   "execution_count": 14,
   "metadata": {},
   "outputs": [],
   "source": [
    "float_cols = [3,5] + list(range(7,54))\n",
    "\n",
    "for col in float_cols:\n",
    "    per_100.iloc[:,col] = per_100.iloc[:,col].astype('float')"
   ]
  },
  {
   "cell_type": "code",
   "execution_count": 15,
   "metadata": {},
   "outputs": [
    {
     "data": {
      "text/html": [
       "<div>\n",
       "<style scoped>\n",
       "    .dataframe tbody tr th:only-of-type {\n",
       "        vertical-align: middle;\n",
       "    }\n",
       "\n",
       "    .dataframe tbody tr th {\n",
       "        vertical-align: top;\n",
       "    }\n",
       "\n",
       "    .dataframe thead th {\n",
       "        text-align: right;\n",
       "    }\n",
       "</style>\n",
       "<table border=\"1\" class=\"dataframe\">\n",
       "  <thead>\n",
       "    <tr style=\"text-align: right;\">\n",
       "      <th></th>\n",
       "      <th>Last Name</th>\n",
       "      <th>First Name</th>\n",
       "      <th>Full Name</th>\n",
       "      <th>Year</th>\n",
       "      <th>Pos</th>\n",
       "      <th>Age</th>\n",
       "      <th>Tm</th>\n",
       "      <th>G</th>\n",
       "      <th>GS</th>\n",
       "      <th>MP</th>\n",
       "      <th>...</th>\n",
       "      <th>TOV%</th>\n",
       "      <th>USG%</th>\n",
       "      <th>OWS</th>\n",
       "      <th>DWS</th>\n",
       "      <th>WS</th>\n",
       "      <th>WS/48</th>\n",
       "      <th>OBPM</th>\n",
       "      <th>DBPM</th>\n",
       "      <th>BPM</th>\n",
       "      <th>VORP</th>\n",
       "    </tr>\n",
       "  </thead>\n",
       "  <tbody>\n",
       "    <tr>\n",
       "      <th>0</th>\n",
       "      <td>Abrines</td>\n",
       "      <td>Álex</td>\n",
       "      <td>Álex Abrines</td>\n",
       "      <td>2018.0</td>\n",
       "      <td>SG</td>\n",
       "      <td>25.0</td>\n",
       "      <td>OKC</td>\n",
       "      <td>31.0</td>\n",
       "      <td>2.0</td>\n",
       "      <td>588.0</td>\n",
       "      <td>...</td>\n",
       "      <td>7.9</td>\n",
       "      <td>12.2</td>\n",
       "      <td>0.1</td>\n",
       "      <td>0.6</td>\n",
       "      <td>0.6</td>\n",
       "      <td>0.053</td>\n",
       "      <td>-2.4</td>\n",
       "      <td>-0.9</td>\n",
       "      <td>-3.4</td>\n",
       "      <td>-0.2</td>\n",
       "    </tr>\n",
       "    <tr>\n",
       "      <th>1</th>\n",
       "      <td>Acy</td>\n",
       "      <td>Quincy</td>\n",
       "      <td>Quincy Acy</td>\n",
       "      <td>2018.0</td>\n",
       "      <td>PF</td>\n",
       "      <td>28.0</td>\n",
       "      <td>PHO</td>\n",
       "      <td>10.0</td>\n",
       "      <td>0.0</td>\n",
       "      <td>123.0</td>\n",
       "      <td>...</td>\n",
       "      <td>15.2</td>\n",
       "      <td>9.2</td>\n",
       "      <td>-0.1</td>\n",
       "      <td>0.0</td>\n",
       "      <td>-0.1</td>\n",
       "      <td>-0.022</td>\n",
       "      <td>-5.7</td>\n",
       "      <td>-0.3</td>\n",
       "      <td>-5.9</td>\n",
       "      <td>-0.1</td>\n",
       "    </tr>\n",
       "    <tr>\n",
       "      <th>2</th>\n",
       "      <td>Adams</td>\n",
       "      <td>Jaylen</td>\n",
       "      <td>Jaylen Adams</td>\n",
       "      <td>2018.0</td>\n",
       "      <td>PG</td>\n",
       "      <td>22.0</td>\n",
       "      <td>ATL</td>\n",
       "      <td>34.0</td>\n",
       "      <td>1.0</td>\n",
       "      <td>428.0</td>\n",
       "      <td>...</td>\n",
       "      <td>19.7</td>\n",
       "      <td>13.5</td>\n",
       "      <td>-0.1</td>\n",
       "      <td>0.2</td>\n",
       "      <td>0.1</td>\n",
       "      <td>0.011</td>\n",
       "      <td>-3.1</td>\n",
       "      <td>-1.3</td>\n",
       "      <td>-4.4</td>\n",
       "      <td>-0.3</td>\n",
       "    </tr>\n",
       "    <tr>\n",
       "      <th>3</th>\n",
       "      <td>Adams</td>\n",
       "      <td>Steven</td>\n",
       "      <td>Steven Adams</td>\n",
       "      <td>2018.0</td>\n",
       "      <td>C</td>\n",
       "      <td>25.0</td>\n",
       "      <td>OKC</td>\n",
       "      <td>80.0</td>\n",
       "      <td>80.0</td>\n",
       "      <td>2669.0</td>\n",
       "      <td>...</td>\n",
       "      <td>12.6</td>\n",
       "      <td>16.4</td>\n",
       "      <td>5.1</td>\n",
       "      <td>4.0</td>\n",
       "      <td>9.1</td>\n",
       "      <td>0.163</td>\n",
       "      <td>0.6</td>\n",
       "      <td>2.1</td>\n",
       "      <td>2.7</td>\n",
       "      <td>3.2</td>\n",
       "    </tr>\n",
       "    <tr>\n",
       "      <th>4</th>\n",
       "      <td>Adebayo</td>\n",
       "      <td>Bam</td>\n",
       "      <td>Bam Adebayo</td>\n",
       "      <td>2018.0</td>\n",
       "      <td>C</td>\n",
       "      <td>21.0</td>\n",
       "      <td>MIA</td>\n",
       "      <td>82.0</td>\n",
       "      <td>28.0</td>\n",
       "      <td>1913.0</td>\n",
       "      <td>...</td>\n",
       "      <td>17.1</td>\n",
       "      <td>15.8</td>\n",
       "      <td>3.4</td>\n",
       "      <td>3.4</td>\n",
       "      <td>6.8</td>\n",
       "      <td>0.171</td>\n",
       "      <td>-0.6</td>\n",
       "      <td>3.6</td>\n",
       "      <td>3.0</td>\n",
       "      <td>2.4</td>\n",
       "    </tr>\n",
       "  </tbody>\n",
       "</table>\n",
       "<p>5 rows × 54 columns</p>\n",
       "</div>"
      ],
      "text/plain": [
       "  Last Name First Name     Full Name    Year Pos   Age   Tm     G    GS  \\\n",
       "0   Abrines       Álex  Álex Abrines  2018.0  SG  25.0  OKC  31.0   2.0   \n",
       "1       Acy     Quincy    Quincy Acy  2018.0  PF  28.0  PHO  10.0   0.0   \n",
       "2     Adams     Jaylen  Jaylen Adams  2018.0  PG  22.0  ATL  34.0   1.0   \n",
       "3     Adams     Steven  Steven Adams  2018.0   C  25.0  OKC  80.0  80.0   \n",
       "4   Adebayo        Bam   Bam Adebayo  2018.0   C  21.0  MIA  82.0  28.0   \n",
       "\n",
       "       MP  ...   TOV%  USG%  OWS  DWS   WS  WS/48  OBPM  DBPM  BPM  VORP  \n",
       "0   588.0  ...    7.9  12.2  0.1  0.6  0.6  0.053  -2.4  -0.9 -3.4  -0.2  \n",
       "1   123.0  ...   15.2   9.2 -0.1  0.0 -0.1 -0.022  -5.7  -0.3 -5.9  -0.1  \n",
       "2   428.0  ...   19.7  13.5 -0.1  0.2  0.1  0.011  -3.1  -1.3 -4.4  -0.3  \n",
       "3  2669.0  ...   12.6  16.4  5.1  4.0  9.1  0.163   0.6   2.1  2.7   3.2  \n",
       "4  1913.0  ...   17.1  15.8  3.4  3.4  6.8  0.171  -0.6   3.6  3.0   2.4  \n",
       "\n",
       "[5 rows x 54 columns]"
      ]
     },
     "execution_count": 15,
     "metadata": {},
     "output_type": "execute_result"
    }
   ],
   "source": [
    "per_100.head()"
   ]
  },
  {
   "cell_type": "code",
   "execution_count": 16,
   "metadata": {},
   "outputs": [],
   "source": [
    "file_loc = \"../data/interim/per_100.csv\"\n",
    "\n",
    "per_100.to_csv(file_loc)"
   ]
  }
 ],
 "metadata": {
  "kernelspec": {
   "display_name": "Python 3",
   "language": "python",
   "name": "python3"
  },
  "language_info": {
   "codemirror_mode": {
    "name": "ipython",
    "version": 3
   },
   "file_extension": ".py",
   "mimetype": "text/x-python",
   "name": "python",
   "nbconvert_exporter": "python",
   "pygments_lexer": "ipython3",
   "version": "3.7.1"
  }
 },
 "nbformat": 4,
 "nbformat_minor": 2
}
