{
 "cells": [
  {
   "cell_type": "markdown",
   "metadata": {},
   "source": [
    "# 1 Purpose"
   ]
  },
  {
   "cell_type": "markdown",
   "metadata": {},
   "source": [
    "[Salary Cap History](https://www.basketball-reference.com/contracts/salary-cap-history.html \"Basketball Reference\")"
   ]
  },
  {
   "cell_type": "markdown",
   "metadata": {
    "heading_collapsed": true
   },
   "source": [
    "### 1.0.1 Imports"
   ]
  },
  {
   "cell_type": "code",
   "execution_count": 1,
   "metadata": {
    "hidden": true
   },
   "outputs": [],
   "source": [
    "import pandas as pd\n",
    "import numpy as np\n",
    "from tqdm import tqdm"
   ]
  },
  {
   "cell_type": "markdown",
   "metadata": {
    "heading_collapsed": true
   },
   "source": [
    "# 2 Salary Cap History"
   ]
  },
  {
   "cell_type": "markdown",
   "metadata": {
    "heading_collapsed": true,
    "hidden": true
   },
   "source": [
    "### 2.0.1 From csv"
   ]
  },
  {
   "cell_type": "code",
   "execution_count": 3,
   "metadata": {
    "hidden": true
   },
   "outputs": [
    {
     "data": {
      "text/html": [
       "<div>\n",
       "<style scoped>\n",
       "    .dataframe tbody tr th:only-of-type {\n",
       "        vertical-align: middle;\n",
       "    }\n",
       "\n",
       "    .dataframe tbody tr th {\n",
       "        vertical-align: top;\n",
       "    }\n",
       "\n",
       "    .dataframe thead th {\n",
       "        text-align: right;\n",
       "    }\n",
       "</style>\n",
       "<table border=\"1\" class=\"dataframe\">\n",
       "  <thead>\n",
       "    <tr style=\"text-align: right;\">\n",
       "      <th></th>\n",
       "      <th>year</th>\n",
       "      <th>salary_cap</th>\n",
       "      <th>2015_dollars</th>\n",
       "    </tr>\n",
       "  </thead>\n",
       "  <tbody>\n",
       "    <tr>\n",
       "      <th>0</th>\n",
       "      <td>1984</td>\n",
       "      <td>$3,600,000</td>\n",
       "      <td>$7,934,034</td>\n",
       "    </tr>\n",
       "    <tr>\n",
       "      <th>1</th>\n",
       "      <td>1985</td>\n",
       "      <td>$4,233,000</td>\n",
       "      <td>$9,153,509</td>\n",
       "    </tr>\n",
       "    <tr>\n",
       "      <th>2</th>\n",
       "      <td>1986</td>\n",
       "      <td>$4,945,000</td>\n",
       "      <td>$10,317,292</td>\n",
       "    </tr>\n",
       "    <tr>\n",
       "      <th>3</th>\n",
       "      <td>1987</td>\n",
       "      <td>$6,164,000</td>\n",
       "      <td>$12,354,015</td>\n",
       "    </tr>\n",
       "    <tr>\n",
       "      <th>4</th>\n",
       "      <td>1988</td>\n",
       "      <td>$7,232,000</td>\n",
       "      <td>$13,829,137</td>\n",
       "    </tr>\n",
       "  </tbody>\n",
       "</table>\n",
       "</div>"
      ],
      "text/plain": [
       "   year   salary_cap  2015_dollars\n",
       "0  1984  $3,600,000    $7,934,034 \n",
       "1  1985  $4,233,000    $9,153,509 \n",
       "2  1986  $4,945,000   $10,317,292 \n",
       "3  1987  $6,164,000   $12,354,015 \n",
       "4  1988  $7,232,000   $13,829,137 "
      ]
     },
     "execution_count": 3,
     "metadata": {},
     "output_type": "execute_result"
    }
   ],
   "source": [
    "salary_cap = pd.read_csv('../data/interim/sportsref_download.csv', sep = ',')\n",
    "\n",
    "salary_cap.head()"
   ]
  },
  {
   "cell_type": "markdown",
   "metadata": {
    "heading_collapsed": true,
    "hidden": true
   },
   "source": [
    "## 2.1 Cleaning"
   ]
  },
  {
   "cell_type": "markdown",
   "metadata": {
    "hidden": true
   },
   "source": [
    "Only cleaning that needs to be done here is removing the first character from the the 2nd and 3rd columns before converting the data types to floats. We won't be accounting for inflation, so we can actually just drop the 3rd column entirely."
   ]
  },
  {
   "cell_type": "code",
   "execution_count": 4,
   "metadata": {
    "hidden": true
   },
   "outputs": [
    {
     "name": "stdout",
     "output_type": "stream",
     "text": [
      "<class 'pandas.core.frame.DataFrame'>\n",
      "RangeIndex: 37 entries, 0 to 36\n",
      "Data columns (total 2 columns):\n",
      "year          37 non-null int64\n",
      "salary_cap    37 non-null int64\n",
      "dtypes: int64(2)\n",
      "memory usage: 672.0 bytes\n"
     ]
    }
   ],
   "source": [
    "cap_clean = salary_cap.drop(columns = '2015_dollars')\n",
    "\n",
    "cap_clean.salary_cap = cap_clean.salary_cap.str[1:]\n",
    "cap_clean.salary_cap = pd.to_numeric(cap_clean.salary_cap.str.replace(',',''))\n",
    "cap_clean.info()"
   ]
  },
  {
   "cell_type": "code",
   "execution_count": 11,
   "metadata": {
    "hidden": true
   },
   "outputs": [],
   "source": [
    "file_loc = '../data/interim/salary_cap_history.csv'\n",
    "\n",
    "cap_clean.to_csv(file_loc)"
   ]
  },
  {
   "cell_type": "markdown",
   "metadata": {
    "heading_collapsed": true
   },
   "source": [
    "# 3 Player Salaries"
   ]
  },
  {
   "cell_type": "markdown",
   "metadata": {
    "hidden": true
   },
   "source": [
    "### 3.0.1 Imports"
   ]
  },
  {
   "cell_type": "code",
   "execution_count": 6,
   "metadata": {
    "hidden": true
   },
   "outputs": [],
   "source": [
    "from urllib.request import urlopen\n",
    "from bs4 import BeautifulSoup"
   ]
  },
  {
   "cell_type": "markdown",
   "metadata": {
    "hidden": true
   },
   "source": [
    "## 3.1 Webscrape\n",
    "\n",
    "[Player Salaries](https://hoopshype.com/salaries/players/2018-2019)"
   ]
  },
  {
   "cell_type": "code",
   "execution_count": 7,
   "metadata": {
    "hidden": true
   },
   "outputs": [
    {
     "name": "stderr",
     "output_type": "stream",
     "text": [
      "100%|██████████████████████████████████████████████████████████████████████████████████| 20/20 [00:48<00:00,  1.27s/it]\n"
     ]
    }
   ],
   "source": [
    "money_dfs = []\n",
    "\n",
    "for i in tqdm(range(2000,2020)):\n",
    "\n",
    "    # URL page we will scraping\n",
    "    url = \"https://hoopshype.com/salaries/players/{}-{}/\".format(i, i+1)\n",
    "   \n",
    "    # this is the HTML from the given URL\n",
    "    html = urlopen(url)\n",
    "    soup = BeautifulSoup(html)\n",
    "\n",
    "    # use findALL() to get the column headers\n",
    "    soup.findAll('table', limit=2)[0]\n",
    "\n",
    "    rows = soup.findAll('tr')[1:]\n",
    "\n",
    "    salaries = [[td.getText() for td in rows[i].findAll('td')]\n",
    "            for i in range(len(rows))]\n",
    "\n",
    "    step_two = [i[1] for i in salaries]\n",
    "\n",
    "    step_three = [i.replace('\\n\\n\\t\\t\\t\\t\\t\\t\\t\\t','') for i in step_two]\n",
    "    names = [i.replace('\\t\\t\\t\\t\\t\\t\\t\\n','') for i in step_three]\n",
    "\n",
    "    step_two = [i[2] for i in salaries]\n",
    "\n",
    "    step_three = [i.replace('\\n\\t\\t\\t\\t\\t\\t\\t$','') for i in step_two]\n",
    "    step_four = [i.replace('\\t\\t\\t\\t\\t\\t','') for i in step_three]\n",
    "    money = list(pd.to_numeric([i.replace(',','') for i in step_four]))\n",
    "\n",
    "    df = pd.DataFrame({'name': names,\n",
    "                        'salary': money,\n",
    "                        'year': i})\n",
    "    money_dfs.append(df)\n",
    "\n",
    "final = pd.concat(money_dfs)"
   ]
  },
  {
   "cell_type": "code",
   "execution_count": 8,
   "metadata": {
    "hidden": true
   },
   "outputs": [
    {
     "data": {
      "text/plain": [
       "(9267, 3)"
      ]
     },
     "execution_count": 8,
     "metadata": {},
     "output_type": "execute_result"
    }
   ],
   "source": [
    "final.shape"
   ]
  },
  {
   "cell_type": "code",
   "execution_count": 9,
   "metadata": {
    "hidden": true
   },
   "outputs": [],
   "source": [
    "file_loc = '../data/interim/salaries.csv'\n",
    "\n",
    "final.to_csv(file_loc)"
   ]
  },
  {
   "cell_type": "markdown",
   "metadata": {
    "heading_collapsed": true
   },
   "source": [
    "# 4 Team Spending"
   ]
  },
  {
   "cell_type": "code",
   "execution_count": 10,
   "metadata": {
    "hidden": true
   },
   "outputs": [
    {
     "name": "stderr",
     "output_type": "stream",
     "text": [
      "100%|██████████████████████████████████████████████████████████████████████████████████| 19/19 [00:18<00:00,  1.20it/s]\n"
     ]
    }
   ],
   "source": [
    "spending_dfs = []\n",
    "\n",
    "for i in tqdm(range(2000,2019)):\n",
    "\n",
    "    # URL page we will scraping\n",
    "    url = \"https://hoopshype.com/salaries/{}-{}/\".format(i, i+1)\n",
    "   \n",
    "    # this is the HTML from the given URL\n",
    "    html = urlopen(url)\n",
    "    soup = BeautifulSoup(html)\n",
    "\n",
    "    # use findALL() to get the column headers\n",
    "    soup.findAll('table', limit=2)[0]\n",
    "\n",
    "    rows = soup.findAll('tr')[1:]\n",
    "\n",
    "    payrolls = [[td.getText() for td in rows[i].findAll('td')]\n",
    "            for i in range(len(rows))]\n",
    "\n",
    "    step_two = [i[1] for i in payrolls]\n",
    "\n",
    "    step_three = [i.replace('\\n\\n\\t\\t\\t\\t\\t\\t\\t\\t\\t','') for i in step_two]\n",
    "    Team = [i.replace('\\t\\t\\t\\t\\t\\t\\t\\t\\n','') for i in step_three]\n",
    "\n",
    "    step_two = [i[2] if len(i) > 2 else '\\n\\t\\t\\t\\t\\t\\t\\t\\t\\t$\\t\\t\\t\\t\\t\\t\\t\\t' for i in payrolls]\n",
    "    step_three = [i.replace('\\n\\t\\t\\t\\t\\t\\t\\t\\t\\t$','') for i in step_two]\n",
    "    step_four = [i.replace('\\t\\t\\t\\t\\t\\t\\t\\t','') for i in step_three]\n",
    "    payroll = list(pd.to_numeric([i.replace(',','') for i in step_four]))\n",
    "    df = pd.DataFrame({'Team': Team,\n",
    "                        'Payroll': payroll,\n",
    "                        'year': i})\n",
    "    spending_dfs.append(df)\n",
    "\n",
    "spending = pd.concat(spending_dfs)"
   ]
  },
  {
   "cell_type": "markdown",
   "metadata": {
    "heading_collapsed": true,
    "hidden": true
   },
   "source": [
    "## 4.1 Wrangling and Cleaning"
   ]
  },
  {
   "cell_type": "code",
   "execution_count": 12,
   "metadata": {
    "hidden": true
   },
   "outputs": [],
   "source": [
    "spend_df = pd.merge(spending, cap_clean, on = 'year')"
   ]
  },
  {
   "cell_type": "code",
   "execution_count": 13,
   "metadata": {
    "hidden": true
   },
   "outputs": [],
   "source": [
    "spend_df['portion'] = round(spend_df.Payroll/spend_df.salary_cap,2)"
   ]
  },
  {
   "cell_type": "code",
   "execution_count": 14,
   "metadata": {
    "hidden": true
   },
   "outputs": [],
   "source": [
    "spend_df['Tm'] = spend_df.Team.map({'Portland':'POR',\n",
    "                                    'New York':'NYK',\n",
    "                                    'Miami':'MIA',\n",
    "                                    'Brooklyn':'BRK',\n",
    "                                    'Washington':'WAS',\n",
    "                                    'LA Lakers':'LAL',\n",
    "                                    'Milwaukee':'MIL',\n",
    "                                    'San Antonio':'SAS',\n",
    "                                    'Indiana':'IND',\n",
    "                                    'Phoenix':'PHO',\n",
    "                                    'Utah':'UTA',\n",
    "                                    'Dallas':'DAL',\n",
    "                                    'Denver':'DEN',\n",
    "                                    'Oklahoma City':'OKC',\n",
    "                                    'Boston':'BOS',\n",
    "                                    'Philadelphia':'PHI',\n",
    "                                    'Cleveland':'CLE',\n",
    "                                    'Houston':'HOU',\n",
    "                                    'Memphis':'MEM',\n",
    "                                    'Minnesota':'MIN',\n",
    "                                    'Charlotte':'CHH',\n",
    "                                    'Sacramento':'SAC',\n",
    "                                    'Golden State':'GSW',\n",
    "                                    'Detroit':'DET',\n",
    "                                    'Atlanta':'ATL',\n",
    "                                    'Toronto':'TOR',\n",
    "                                    'Orlando':'ORL',\n",
    "                                    'Chicago':'CHI',\n",
    "                                    'LA Clippers':'LAC',\n",
    "                                    'New Orleans':'NOH'})"
   ]
  },
  {
   "cell_type": "code",
   "execution_count": 15,
   "metadata": {
    "hidden": true
   },
   "outputs": [
    {
     "name": "stdout",
     "output_type": "stream",
     "text": [
      "<class 'pandas.core.frame.DataFrame'>\n",
      "Int64Index: 570 entries, 0 to 569\n",
      "Data columns (total 6 columns):\n",
      "Team          570 non-null object\n",
      "Payroll       566 non-null float64\n",
      "year          570 non-null int64\n",
      "salary_cap    570 non-null int64\n",
      "portion       566 non-null float64\n",
      "Tm            570 non-null object\n",
      "dtypes: float64(2), int64(2), object(2)\n",
      "memory usage: 31.2+ KB\n"
     ]
    }
   ],
   "source": [
    "spend_df.info()"
   ]
  },
  {
   "cell_type": "code",
   "execution_count": 16,
   "metadata": {
    "hidden": true
   },
   "outputs": [],
   "source": [
    "file_loc = '../data/processed/spend_history.csv'\n",
    "\n",
    "spend_df.to_csv(file_loc)"
   ]
  },
  {
   "cell_type": "code",
   "execution_count": null,
   "metadata": {
    "hidden": true
   },
   "outputs": [],
   "source": []
  }
 ],
 "metadata": {
  "kernelspec": {
   "display_name": "Python 3",
   "language": "python",
   "name": "python3"
  },
  "language_info": {
   "codemirror_mode": {
    "name": "ipython",
    "version": 3
   },
   "file_extension": ".py",
   "mimetype": "text/x-python",
   "name": "python",
   "nbconvert_exporter": "python",
   "pygments_lexer": "ipython3",
   "version": "3.7.1"
  }
 },
 "nbformat": 4,
 "nbformat_minor": 2
}
