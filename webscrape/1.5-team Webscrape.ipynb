{
 "cells": [
  {
   "cell_type": "markdown",
   "metadata": {},
   "source": [
    "# 1 Purpose\n",
    "\n",
    "Use [Basketball Reference](https://www.basketball-reference.com) to pull team-level data; both W/L records as well as more advanced statistics (2 separate loops)"
   ]
  },
  {
   "cell_type": "markdown",
   "metadata": {
    "heading_collapsed": true
   },
   "source": [
    "### 1.0.1 Imports"
   ]
  },
  {
   "cell_type": "code",
   "execution_count": 1,
   "metadata": {
    "hidden": true
   },
   "outputs": [],
   "source": [
    "from urllib.request import urlopen\n",
    "from bs4 import BeautifulSoup, Comment\n",
    "import pandas as pd\n",
    "from datetime import date\n",
    "import numpy as np\n",
    "import requests\n",
    "import re\n",
    "from tqdm import tqdm\n"
   ]
  },
  {
   "cell_type": "markdown",
   "metadata": {},
   "source": [
    "# 2 Webscrape Loops"
   ]
  },
  {
   "cell_type": "markdown",
   "metadata": {
    "heading_collapsed": true
   },
   "source": [
    "### 2.0.1 Set Start/End Dates for Loops"
   ]
  },
  {
   "cell_type": "code",
   "execution_count": 2,
   "metadata": {
    "hidden": true
   },
   "outputs": [],
   "source": [
    "# There is some debate as to when the modern era of basketball began. NBA modern era options:\n",
    "merger = 1977\n",
    "three_point = 1980\n",
    "unrestricted_fa = 1989\n",
    "bulls_breakup = 1999\n",
    "def_rule_change = 2001\n",
    "\n",
    "# current year and month\n",
    "c_year = date.today().year\n",
    "c_month = date.today().month"
   ]
  },
  {
   "cell_type": "code",
   "execution_count": 3,
   "metadata": {
    "hidden": true
   },
   "outputs": [],
   "source": [
    "begin = 2016\n",
    "\n",
    "# set end year\n",
    "# 'end' will be set as the current year (2019 at time of creation), so that up-to-date data is more or less dynamic\n",
    "\n",
    "if c_month > 10:\n",
    "    end = c_year + 1\n",
    "else:\n",
    "    end = c_year\n",
    "\n",
    "years = list(range(begin, end + 1))"
   ]
  },
  {
   "cell_type": "markdown",
   "metadata": {
    "heading_collapsed": true
   },
   "source": [
    "### 2.0.2 Initial Wrangling Prep"
   ]
  },
  {
   "cell_type": "code",
   "execution_count": 4,
   "metadata": {
    "hidden": true
   },
   "outputs": [],
   "source": [
    "players = pd.read_csv('../data/interim/per_100.csv')\n",
    "\n",
    "short_name = players.Tm.unique()\n",
    "\n",
    "full_name = ['Oklahoma City Thunder', 'Phoenix Suns', 'Atlanta Hawks', 'Miami Heat',\n",
    "            'Cleveland Cavaliers', 'Denver Nuggets', 'San Antonio Spurs', 'Chicago Bulls',\n",
    "            'Utah Jazz', 'Brooklyn Nets', 'New York Knicks', 'Portland Trail Blazers', \n",
    "            'Memphis Grizzlies', 'Total', 'Indiana Pacers', 'Milwaukee Bucks', 'Dallas Mavericks',\n",
    "            'Houston Rockets', 'Toronto Raptors', 'Washington Wizards', 'Orlando Magic', \n",
    "            'Charlotte Hornets', 'Sacramento Kings', 'Los Angeles Lakers', 'Minnesota Timberwolves',\n",
    "            'Boston Celtics', 'Golden State Warriors', 'New Orleans Pelicans', 'Los Angeles Clippers',\n",
    "            'Philadelphia 76ers', 'Detroit Pistons', 'Charlotte Bobcats', 'New Orleans Hornets',\n",
    "            'New Jersey Nets', 'Seattle SuperSonics', 'New Orleans/Oklahoma City Hornets',\n",
    "            'Charlotte Hornets', 'Vancouver Grizzlies', 'Washington Bullets', 'Kansas City Kings',\n",
    "            'San Diego Clippers']\n",
    "\n",
    "playoff_star = [full + '*' for full in full_name]\n",
    "\n",
    "full_name = full_name + playoff_star\n",
    "short_name = list(short_name) + list(short_name)\n",
    "\n",
    "name_df = pd.DataFrame({'Tm' : short_name,\n",
    "                        'Team' : full_name})\n"
   ]
  },
  {
   "cell_type": "markdown",
   "metadata": {
    "heading_collapsed": true
   },
   "source": [
    "## 2.1 First Loop (2016 - 2019)"
   ]
  },
  {
   "cell_type": "code",
   "execution_count": 5,
   "metadata": {
    "hidden": true
   },
   "outputs": [
    {
     "name": "stderr",
     "output_type": "stream",
     "text": [
      "100%|████████████████████████████████████████████████████████████████████████████████████| 4/4 [00:10<00:00,  3.07s/it]\n"
     ]
    }
   ],
   "source": [
    "dfs = []\n",
    "\n",
    "for year in tqdm(years):\n",
    "\n",
    "    # URL page we will scraping\n",
    "    url = \"https://www.basketball-reference.com/leagues/NBA_{}.html\".format(year)\n",
    "    \n",
    "    # this is the HTML from the given URL\n",
    "    html = urlopen(url)\n",
    "    soup = BeautifulSoup(html)\n",
    "    \n",
    "    # use getText()to extract the text we need into a list\n",
    "    headers_e = [th.getText() for th in soup.findAll('table')[0].findAll('th')][:8]\n",
    "    headers_w = [th.getText() for th in soup.findAll('table')[1].findAll('th')][:8]\n",
    "    \n",
    "    teams_east = []\n",
    "    ranks_east = []\n",
    "\n",
    "    for i in range(2, 17):\n",
    "        team = [th.getText() for th in soup.findAll('tr', limit = 33)[i].findAll('th')]\n",
    "        team = repr(str(team[0]))\n",
    "        rank = re.findall('\\d+',team)\n",
    "        team = team.split('\\\\', 1)[0].strip(\"'\")\n",
    "        teams_east.append(team)\n",
    "        ranks_east.append(rank)\n",
    "\n",
    "    ranks_east = list(filter(None, ranks_east))\n",
    "\n",
    "    teams_west = []\n",
    "    ranks_west = []\n",
    "    \n",
    "    for j in range(18, 33):\n",
    "        # use getText()to extract the text we need into a list\n",
    "        team = [th.getText() for th in soup.findAll('tr', limit = 33)[j].findAll('th')]\n",
    "        team = repr(str(team[0]))\n",
    "        rank = re.findall('\\d+', team)\n",
    "        team = team.split('\\\\', 1)[0].strip(\"'\")\n",
    "        teams_west.append(team)\n",
    "        ranks_west.append(rank)\n",
    "    \n",
    "    ranks_west = list(filter(None, ranks_west))\n",
    "\n",
    "\n",
    "    rows = soup.findAll('table')\n",
    "    win_loss = [[td.getText() for td in rows[i].findAll('td')]\n",
    "        for i in range(len(rows))]\n",
    "    \n",
    "    wl_e = win_loss[0]\n",
    "    wl_w = win_loss[1]\n",
    "    elements = len(headers_e) - 1\n",
    "\n",
    "    data_e = []\n",
    "    for i in range(0, elements):\n",
    "        col = wl_e[i::elements]\n",
    "        data_e.append(col)\n",
    "\n",
    "    data_w = []\n",
    "    for i in range(0, elements):\n",
    "        col = wl_w[i::elements]\n",
    "        data_w.append(col)\n",
    "\n",
    "    east = [teams_east] + data_e\n",
    "    west = [teams_west] + data_w\n",
    "    \n",
    "    # create dfs\n",
    "    year_stats_east = pd.DataFrame(east)\n",
    "    year_stats_east = year_stats_east.transpose()\n",
    "    year_stats_east.columns = headers_e\n",
    "    year_stats_east['Rank'] = ranks_east\n",
    "\n",
    "    year_stats_west = pd.DataFrame(west)\n",
    "    year_stats_west = year_stats_west.transpose()\n",
    "    year_stats_west.columns = headers_w\n",
    "    year_stats_west['Rank'] = ranks_west\n",
    "\n",
    "    # add year columns\n",
    "    year_stats_east['Year'] = year - 1\n",
    "\n",
    "    year_stats_west['Year'] = year - 1\n",
    "    \n",
    "    east_df = year_stats_east.rename(columns = {'Eastern Conference':'Team'})\n",
    "    west_df = year_stats_west.rename(columns = {'Western Conference':'Team'})\n",
    "    \n",
    "    df = pd.concat([east_df, west_df]).reset_index(drop = 'True')\n",
    "    \n",
    "    rank_list = list(df.Rank)\n",
    "\n",
    "    df['Rank'] = [ num[-2] for num in rank_list]\n",
    "    \n",
    "#####################################################################################################\n",
    "\n",
    "    r = requests.get(url)\n",
    "    soup = BeautifulSoup(r.content, 'html.parser')\n",
    "    placeholder = soup.select_one('#all_team-stats-per_game .placeholder')\n",
    "    comment = next(elem for elem in placeholder.next_siblings if isinstance(elem, Comment))\n",
    "    table_soup = BeautifulSoup(comment, 'html.parser')\n",
    "\n",
    "    headers = [th.getText() for th in table_soup.findAll('th')]\n",
    "    headers = headers[1:25] # only these headers correlate with our data\n",
    "\n",
    "    data = []\n",
    "\n",
    "    rows = table_soup.find_all('tr')\n",
    "    for row in rows:\n",
    "        cells = row.find_all('td')\n",
    "        if cells:\n",
    "            data.append([cell.text for cell in cells])\n",
    "        \n",
    "    data = data[:-1] #remove last row 'league average'\n",
    "\n",
    "    stats_df = pd.DataFrame(data, columns = headers)\n",
    "\n",
    "    stats_df = stats_df.drop(columns = ['G','MP','PTS'])\n",
    "\n",
    "######################################################################################################\n",
    "    \n",
    "    final = df.merge(name_df, on = 'Team')\n",
    "\n",
    "    final = final.merge(stats_df, on = 'Team')\n",
    "    \n",
    "    dfs.append(final)"
   ]
  },
  {
   "cell_type": "code",
   "execution_count": 6,
   "metadata": {
    "hidden": true
   },
   "outputs": [],
   "source": [
    "wl_stats = pd.concat(dfs)"
   ]
  },
  {
   "cell_type": "markdown",
   "metadata": {
    "heading_collapsed": true
   },
   "source": [
    "## 2.2 Second Loop (1979 - 2015)"
   ]
  },
  {
   "cell_type": "markdown",
   "metadata": {
    "hidden": true
   },
   "source": [
    "After this first for loop (which you'll notice only covered years 2016 to 2019 at time of creation), webscraping got a bit more ...involved. You see, going back to the 1979 season (for which the url includes year number 1980), means going back through quite a bit of league shuffling and restructuring. This means table sizes varied and the webscraping code that worked for one year might throw an index length error when used on the year right before it. We were at least able to bite this off in chunks, but before adding some efficiency with the dictionary below, we used seven additional and only slightly unique 'for loops' of the same size as the one above to scrape all this team data.\n",
    "\n",
    "With a little creativity and the help of an 'if' statement embedded inside an already embedded 'for loop', we were able to automate our larger loop and webscrape each chunk of year ranges and save ourselves (and you the reader) from a LOT of code."
   ]
  },
  {
   "cell_type": "code",
   "execution_count": 7,
   "metadata": {
    "hidden": true
   },
   "outputs": [
    {
     "name": "stdout",
     "output_type": "stream",
     "text": [
      "range(2, 15) 15 range(16, 30) 30\n",
      "range(1981, 1989)\n"
     ]
    }
   ],
   "source": [
    "# dict object 'd' will serve as our means of accessing the different line ranges when retrieving table data for\n",
    "# specific year ranges; year ranges serve as the keys, then values, in order: [east line range, east line limit,\n",
    "# west line range, west line limit]\n",
    "\n",
    "total_range = range(1980,2016)\n",
    "\n",
    "d = {range(2005,2016) : [range(2,20), 20, range(21,39), 39],\n",
    "     range(1996,2005) : [range(2,19), 19, range(21,36), 36],\n",
    "     range(1992,1996) : [range(2,18), 18, range(20,34), 34],\n",
    "     range(1990,1992) : [range(2,17), 17, range(18,34), 34],\n",
    "     range(1989,1990) : [range(2,16), 16, range(18,32), 32],\n",
    "     range(1981,1989) : [range(2,15), 15, range(16,30), 30],\n",
    "     range(1980,1981) : [range(2,15), 15, range(16,29), 29]}\n",
    "\n",
    "range_keys = list(d.keys())\n",
    "\n",
    "# example of accessing 'd'\n",
    "\n",
    "a = d.get(range(1981,1989))\n",
    "print(a[0], a[1], a[2], a[3])\n",
    "print(list(d.keys())[5])"
   ]
  },
  {
   "cell_type": "code",
   "execution_count": 8,
   "metadata": {
    "hidden": true
   },
   "outputs": [
    {
     "name": "stderr",
     "output_type": "stream",
     "text": [
      "100%|██████████████████████████████████████████████████████████████████████████████████| 36/36 [01:30<00:00,  2.47s/it]\n"
     ]
    }
   ],
   "source": [
    "dfs2 = []\n",
    "\n",
    "for year in tqdm(total_range):\n",
    "\n",
    "    url = \"https://www.basketball-reference.com/leagues/NBA_{}.html\".format(year)\n",
    "    \n",
    "    html = urlopen(url)\n",
    "    soup = BeautifulSoup(html)\n",
    "\n",
    "    headers = [th.getText() for th in soup.findAll('table')[1].findAll('th')][:8]\n",
    "    headers.pop(0)\n",
    "    \n",
    "    # THIS IS THAT BEAUTIFUL FOR LOOP! ...yes it's probably simpler than you expected, but it was a life saver.\n",
    "    \n",
    "    for r in range_keys:\n",
    "        if year in r:\n",
    "            a = d.get(r)    \n",
    "\n",
    "    teams_east = []\n",
    "    ranks_east = []\n",
    "    \n",
    "\n",
    "    for i in a[0]:\n",
    "        team = [th.getText() for th in soup.findAll('tr', limit = a[1])[i].findAll('th')]\n",
    "        team = repr(str(team[0]))\n",
    "        rank = re.findall('\\d+',team)\n",
    "        team = team.split('\\\\', 1)[0].strip(\"'\")\n",
    "        teams_east.append(team)\n",
    "        ranks_east.append(rank)\n",
    "\n",
    "    ranks_east = list(filter(None, ranks_east))\n",
    "    \n",
    "    div_list = ['Atlantic Division', 'Central Division', 'Southeast Division', 'Northwest Division',\n",
    "                'Pacific Division', 'Southwest Division', 'Midwest Division']\n",
    "    for div in div_list:\n",
    "        if div in teams_east: \n",
    "            teams_east.remove(div) \n",
    "\n",
    "    teams_west = []\n",
    "    ranks_west = []\n",
    "    \n",
    "    for j in a[2]:\n",
    "        team = [th.getText() for th in soup.findAll('tr', limit = a[3])[j].findAll('th')]\n",
    "        team = repr(str(team[0]))\n",
    "        rank = re.findall('\\d+', team)\n",
    "        team = team.split('\\\\', 1)[0].strip(\"'\")\n",
    "        teams_west.append(team)\n",
    "        ranks_west.append(rank)\n",
    "    \n",
    "    ranks_west = list(filter(None, ranks_west))\n",
    "\n",
    "\n",
    "    for div in div_list:\n",
    "        if div in teams_west: \n",
    "            teams_west.remove(div)    \n",
    "\n",
    "    rows = soup.findAll('tr',{'class' : 'full_table'})\n",
    "    win_loss = [[td.getText() for td in rows[i].findAll('td')]\n",
    "        for i in range(len(rows))]\n",
    "    \n",
    "    wl_e = win_loss[:len(teams_east)]\n",
    "    wl_w = win_loss[len(teams_east):]\n",
    "\n",
    "    \n",
    "    # create dfs\n",
    "    year_stats_east = pd.DataFrame(wl_e)\n",
    "    year_stats_east.columns = headers\n",
    "    year_stats_east['Team'] = teams_east\n",
    "    year_stats_east['Rank'] = ranks_east\n",
    "\n",
    "    year_stats_west = pd.DataFrame(wl_w)\n",
    "    year_stats_west.columns = headers\n",
    "    year_stats_west['Team'] = teams_west\n",
    "    year_stats_west['Rank'] = ranks_west\n",
    "\n",
    "    # add year columns\n",
    "    year_stats_east['Year'] = year - 1\n",
    "\n",
    "    year_stats_west['Year'] = year - 1\n",
    "    \n",
    "    df = pd.concat([year_stats_east, year_stats_west]).reset_index(drop = 'True')\n",
    "    \n",
    "    rank_list = list(df.Rank)\n",
    "\n",
    "    df['Rank'] = [ num[-2] for num in rank_list]\n",
    "    \n",
    "#####################################################################################################\n",
    "\n",
    "    r = requests.get(url)\n",
    "    soup = BeautifulSoup(r.content, 'html.parser')\n",
    "    placeholder = soup.select_one('#all_team-stats-per_game .placeholder')\n",
    "    comment = next(elem for elem in placeholder.next_siblings if isinstance(elem, Comment))\n",
    "    table_soup = BeautifulSoup(comment, 'html.parser')\n",
    "\n",
    "    headers = [th.getText() for th in table_soup.findAll('th')]\n",
    "    headers = headers[1:25] # only these headers correlate with our data\n",
    "\n",
    "    data = []\n",
    "\n",
    "    rows = table_soup.find_all('tr')\n",
    "    for row in rows:\n",
    "        cells = row.find_all('td')\n",
    "        if cells:\n",
    "            data.append([cell.text for cell in cells])\n",
    "        \n",
    "    data = data[:-1] #remove last row 'league average'\n",
    "\n",
    "    stats_df = pd.DataFrame(data, columns = headers)\n",
    "\n",
    "    stats_df = stats_df.drop(columns = ['G','MP','PTS'])\n",
    "\n",
    "######################################################################################################\n",
    "    \n",
    "    final = df.merge(name_df, on = 'Team')\n",
    "    \n",
    "    final = final.merge(stats_df, on = 'Team')\n",
    "\n",
    "    dfs2.append(final)\n"
   ]
  },
  {
   "cell_type": "code",
   "execution_count": 9,
   "metadata": {
    "hidden": true
   },
   "outputs": [],
   "source": [
    "wl_stats2 = pd.concat(dfs2)"
   ]
  },
  {
   "cell_type": "markdown",
   "metadata": {
    "heading_collapsed": true
   },
   "source": [
    "# 3 Wrangling and Cleaning"
   ]
  },
  {
   "cell_type": "code",
   "execution_count": 10,
   "metadata": {
    "hidden": true
   },
   "outputs": [],
   "source": [
    "wl_list = [wl_stats, wl_stats2]"
   ]
  },
  {
   "cell_type": "code",
   "execution_count": 11,
   "metadata": {
    "hidden": true
   },
   "outputs": [
    {
     "name": "stdout",
     "output_type": "stream",
     "text": [
      "Index(['2P', '2P%', '2PA', '3P', '3P%', '3PA', 'AST', 'BLK', 'DRB', 'FG',\n",
      "       'FG%', 'FGA', 'FT', 'FT%', 'FTA', 'GB', 'L', 'ORB', 'PA/G', 'PF',\n",
      "       'PS/G', 'Rank', 'SRS', 'STL', 'TOV', 'TRB', 'Team', 'Tm', 'W', 'W/L%',\n",
      "       'Year', 'Playoffs'],\n",
      "      dtype='object')\n"
     ]
    },
    {
     "data": {
      "text/html": [
       "<div>\n",
       "<style scoped>\n",
       "    .dataframe tbody tr th:only-of-type {\n",
       "        vertical-align: middle;\n",
       "    }\n",
       "\n",
       "    .dataframe tbody tr th {\n",
       "        vertical-align: top;\n",
       "    }\n",
       "\n",
       "    .dataframe thead th {\n",
       "        text-align: right;\n",
       "    }\n",
       "</style>\n",
       "<table border=\"1\" class=\"dataframe\">\n",
       "  <thead>\n",
       "    <tr style=\"text-align: right;\">\n",
       "      <th></th>\n",
       "      <th>2P</th>\n",
       "      <th>2P%</th>\n",
       "      <th>2PA</th>\n",
       "      <th>3P</th>\n",
       "      <th>3P%</th>\n",
       "      <th>3PA</th>\n",
       "      <th>AST</th>\n",
       "      <th>BLK</th>\n",
       "      <th>DRB</th>\n",
       "      <th>FG</th>\n",
       "      <th>...</th>\n",
       "      <th>SRS</th>\n",
       "      <th>STL</th>\n",
       "      <th>TOV</th>\n",
       "      <th>TRB</th>\n",
       "      <th>Team</th>\n",
       "      <th>Tm</th>\n",
       "      <th>W</th>\n",
       "      <th>W/L%</th>\n",
       "      <th>Year</th>\n",
       "      <th>Playoffs</th>\n",
       "    </tr>\n",
       "  </thead>\n",
       "  <tbody>\n",
       "    <tr>\n",
       "      <th>0</th>\n",
       "      <td>27.9</td>\n",
       "      <td>.514</td>\n",
       "      <td>54.4</td>\n",
       "      <td>10.7</td>\n",
       "      <td>.362</td>\n",
       "      <td>29.6</td>\n",
       "      <td>22.7</td>\n",
       "      <td>3.9</td>\n",
       "      <td>33.9</td>\n",
       "      <td>38.7</td>\n",
       "      <td>...</td>\n",
       "      <td>5.45</td>\n",
       "      <td>6.7</td>\n",
       "      <td>13.6</td>\n",
       "      <td>44.5</td>\n",
       "      <td>Cleveland Cavaliers</td>\n",
       "      <td>CLE</td>\n",
       "      <td>57</td>\n",
       "      <td>.695</td>\n",
       "      <td>2015</td>\n",
       "      <td>1</td>\n",
       "    </tr>\n",
       "    <tr>\n",
       "      <th>1</th>\n",
       "      <td>28.0</td>\n",
       "      <td>.483</td>\n",
       "      <td>58.0</td>\n",
       "      <td>8.6</td>\n",
       "      <td>.370</td>\n",
       "      <td>23.4</td>\n",
       "      <td>18.7</td>\n",
       "      <td>5.5</td>\n",
       "      <td>33.2</td>\n",
       "      <td>36.7</td>\n",
       "      <td>...</td>\n",
       "      <td>4.08</td>\n",
       "      <td>7.8</td>\n",
       "      <td>13.1</td>\n",
       "      <td>43.4</td>\n",
       "      <td>Toronto Raptors</td>\n",
       "      <td>TOR</td>\n",
       "      <td>56</td>\n",
       "      <td>.683</td>\n",
       "      <td>2015</td>\n",
       "      <td>1</td>\n",
       "    </tr>\n",
       "    <tr>\n",
       "      <th>2</th>\n",
       "      <td>32.3</td>\n",
       "      <td>.508</td>\n",
       "      <td>63.6</td>\n",
       "      <td>6.1</td>\n",
       "      <td>.336</td>\n",
       "      <td>18.0</td>\n",
       "      <td>20.8</td>\n",
       "      <td>6.5</td>\n",
       "      <td>34.3</td>\n",
       "      <td>38.4</td>\n",
       "      <td>...</td>\n",
       "      <td>1.50</td>\n",
       "      <td>6.7</td>\n",
       "      <td>14.1</td>\n",
       "      <td>44.1</td>\n",
       "      <td>Miami Heat</td>\n",
       "      <td>MIA</td>\n",
       "      <td>48</td>\n",
       "      <td>.585</td>\n",
       "      <td>2015</td>\n",
       "      <td>1</td>\n",
       "    </tr>\n",
       "    <tr>\n",
       "      <th>3</th>\n",
       "      <td>28.7</td>\n",
       "      <td>.512</td>\n",
       "      <td>56.1</td>\n",
       "      <td>9.9</td>\n",
       "      <td>.350</td>\n",
       "      <td>28.4</td>\n",
       "      <td>25.6</td>\n",
       "      <td>5.9</td>\n",
       "      <td>33.8</td>\n",
       "      <td>38.6</td>\n",
       "      <td>...</td>\n",
       "      <td>3.49</td>\n",
       "      <td>9.1</td>\n",
       "      <td>15.0</td>\n",
       "      <td>42.1</td>\n",
       "      <td>Atlanta Hawks</td>\n",
       "      <td>ATL</td>\n",
       "      <td>48</td>\n",
       "      <td>.585</td>\n",
       "      <td>2015</td>\n",
       "      <td>1</td>\n",
       "    </tr>\n",
       "    <tr>\n",
       "      <th>4</th>\n",
       "      <td>30.5</td>\n",
       "      <td>.483</td>\n",
       "      <td>63.1</td>\n",
       "      <td>8.7</td>\n",
       "      <td>.335</td>\n",
       "      <td>26.1</td>\n",
       "      <td>24.2</td>\n",
       "      <td>4.2</td>\n",
       "      <td>33.3</td>\n",
       "      <td>39.2</td>\n",
       "      <td>...</td>\n",
       "      <td>2.84</td>\n",
       "      <td>9.2</td>\n",
       "      <td>13.7</td>\n",
       "      <td>44.9</td>\n",
       "      <td>Boston Celtics</td>\n",
       "      <td>BOS</td>\n",
       "      <td>48</td>\n",
       "      <td>.585</td>\n",
       "      <td>2015</td>\n",
       "      <td>1</td>\n",
       "    </tr>\n",
       "  </tbody>\n",
       "</table>\n",
       "<p>5 rows × 32 columns</p>\n",
       "</div>"
      ],
      "text/plain": [
       "     2P   2P%   2PA    3P   3P%   3PA   AST  BLK   DRB    FG   ...      SRS  \\\n",
       "0  27.9  .514  54.4  10.7  .362  29.6  22.7  3.9  33.9  38.7   ...     5.45   \n",
       "1  28.0  .483  58.0   8.6  .370  23.4  18.7  5.5  33.2  36.7   ...     4.08   \n",
       "2  32.3  .508  63.6   6.1  .336  18.0  20.8  6.5  34.3  38.4   ...     1.50   \n",
       "3  28.7  .512  56.1   9.9  .350  28.4  25.6  5.9  33.8  38.6   ...     3.49   \n",
       "4  30.5  .483  63.1   8.7  .335  26.1  24.2  4.2  33.3  39.2   ...     2.84   \n",
       "\n",
       "   STL   TOV   TRB                 Team   Tm   W  W/L%  Year Playoffs  \n",
       "0  6.7  13.6  44.5  Cleveland Cavaliers  CLE  57  .695  2015        1  \n",
       "1  7.8  13.1  43.4      Toronto Raptors  TOR  56  .683  2015        1  \n",
       "2  6.7  14.1  44.1           Miami Heat  MIA  48  .585  2015        1  \n",
       "3  9.1  15.0  42.1        Atlanta Hawks  ATL  48  .585  2015        1  \n",
       "4  9.2  13.7  44.9       Boston Celtics  BOS  48  .585  2015        1  \n",
       "\n",
       "[5 rows x 32 columns]"
      ]
     },
     "execution_count": 11,
     "metadata": {},
     "output_type": "execute_result"
    }
   ],
   "source": [
    "teams = pd.concat(wl_list, sort = True, ignore_index = True)\n",
    "teams['Playoffs'] = teams['Team'].str.count(\"\\*\")\n",
    "teams['Team'] = teams['Team'].str.strip('*')\n",
    "\n",
    "print(teams.columns)\n",
    "teams.head()\n"
   ]
  },
  {
   "cell_type": "code",
   "execution_count": 13,
   "metadata": {
    "hidden": true
   },
   "outputs": [],
   "source": [
    "teams['Games'] = teams['W'] + teams['L']\n",
    "\n",
    "teams['PD/G'] = np.nan # teams['PS/G'] - teams['PA/G']\n",
    "teams['PS'] = np.nan # teams['PS/G'] * teams['Games']\n",
    "teams['PA'] = np.nan # teams['PA/G'] * teams['Games']\n",
    "teams['PD'] = np.nan # teams['PS'] - teams['PA']\n",
    "\n",
    "teams = teams[['Team','Tm','Year','W','L','W/L%','Rank','Playoffs','PS/G','PA/G','PD/G','PS','PA','PD',\n",
    "               'Games','FG', 'FGA', 'FG%', '3P', '3PA', '3P%', '2P', '2PA', '2P%','FT', 'FTA', 'FT%', \n",
    "               'ORB', 'DRB', 'TRB', 'AST', 'STL', 'BLK', 'TOV','PF']]\n",
    "\n",
    "teams.iloc[:,[2,3,4,6,7,14]] = teams.iloc[:,[2,3,4,6,7,14]].astype('int')\n",
    "teams.iloc[:,[5,8,9,10,11,12,13]] = teams.iloc[:,[5,8,9,10,11,12,13]].astype('float')\n",
    "\n",
    "teams['PD/G'] = teams['PS/G'] - teams['PA/G']\n",
    "teams['PS'] = teams['PS/G'] * teams['Games']\n",
    "teams['PA'] = teams['PA/G'] * teams['Games']\n",
    "teams['PD'] = teams['PS'] - teams['PA']\n",
    "\n",
    "teams.iloc[:,list(range(15,35))] = teams.iloc[:,list(range(15,35))].astype('float')"
   ]
  },
  {
   "cell_type": "code",
   "execution_count": 15,
   "metadata": {
    "hidden": true
   },
   "outputs": [],
   "source": [
    "file_loc = '../data/interim/teams.csv'\n",
    "\n",
    "teams.to_csv(file_loc)"
   ]
  },
  {
   "cell_type": "code",
   "execution_count": 16,
   "metadata": {
    "hidden": true
   },
   "outputs": [],
   "source": [
    "blank = 'Unnamed: 0'\n",
    "\n",
    "# team data \n",
    "\n",
    "teams = pd.read_csv(\"../data/interim/teams.csv\")\n",
    "teams.drop(blank, axis = 1, inplace = True)\n",
    "\n",
    "# spending data\n",
    "\n",
    "spending = pd.read_csv('../data/interim/spend_history.csv')\n",
    "spending.drop([blank, 'Team'], axis = 1, inplace = True)\n",
    "spending = spending.rename(columns = {'year':'Year'})\n"
   ]
  },
  {
   "cell_type": "code",
   "execution_count": 19,
   "metadata": {
    "hidden": true
   },
   "outputs": [],
   "source": [
    "fulldf = pd.merge(teams, spending, on = ['Tm','Year'], how = 'left')\n",
    "fulldf = fulldf[(fulldf.Year != 1998) & (fulldf.Year != 2011)]\n",
    "\n",
    "fulldf.to_csv('../data/processed/teams_final.csv')"
   ]
  }
 ],
 "metadata": {
  "kernelspec": {
   "display_name": "Python 3",
   "language": "python",
   "name": "python3"
  },
  "language_info": {
   "codemirror_mode": {
    "name": "ipython",
    "version": 3
   },
   "file_extension": ".py",
   "mimetype": "text/x-python",
   "name": "python",
   "nbconvert_exporter": "python",
   "pygments_lexer": "ipython3",
   "version": "3.7.1"
  }
 },
 "nbformat": 4,
 "nbformat_minor": 2
}
