{
 "cells": [
  {
   "cell_type": "code",
   "execution_count": 5,
   "metadata": {},
   "outputs": [],
   "source": [
    "from urllib.request import urlopen\n",
    "from bs4 import BeautifulSoup, Comment\n",
    "import pandas as pd\n",
    "from datetime import date\n",
    "import numpy as np\n",
    "import requests\n",
    "import re\n",
    "\n",
    "pd.set_option('mode.chained_assignment', None)"
   ]
  },
  {
   "cell_type": "code",
   "execution_count": 6,
   "metadata": {},
   "outputs": [
    {
     "data": {
      "text/html": [
       "<div>\n",
       "<style scoped>\n",
       "    .dataframe tbody tr th:only-of-type {\n",
       "        vertical-align: middle;\n",
       "    }\n",
       "\n",
       "    .dataframe tbody tr th {\n",
       "        vertical-align: top;\n",
       "    }\n",
       "\n",
       "    .dataframe thead th {\n",
       "        text-align: right;\n",
       "    }\n",
       "</style>\n",
       "<table border=\"1\" class=\"dataframe\">\n",
       "  <thead>\n",
       "    <tr style=\"text-align: right;\">\n",
       "      <th></th>\n",
       "      <th>_id</th>\n",
       "      <th>name</th>\n",
       "      <th>url</th>\n",
       "    </tr>\n",
       "  </thead>\n",
       "  <tbody>\n",
       "    <tr>\n",
       "      <th>0</th>\n",
       "      <td>abdelal01</td>\n",
       "      <td>Alaa Abdelnaby</td>\n",
       "      <td>https://www.basketball-reference.com/players/a...</td>\n",
       "    </tr>\n",
       "    <tr>\n",
       "      <th>1</th>\n",
       "      <td>abdulza01</td>\n",
       "      <td>Zaid Abdul-Aziz</td>\n",
       "      <td>https://www.basketball-reference.com/players/a...</td>\n",
       "    </tr>\n",
       "    <tr>\n",
       "      <th>2</th>\n",
       "      <td>abdulka01</td>\n",
       "      <td>Kareem Abdul-Jabbar</td>\n",
       "      <td>https://www.basketball-reference.com/players/a...</td>\n",
       "    </tr>\n",
       "    <tr>\n",
       "      <th>3</th>\n",
       "      <td>abdulma02</td>\n",
       "      <td>Mahmoud Abdul-Rauf</td>\n",
       "      <td>https://www.basketball-reference.com/players/a...</td>\n",
       "    </tr>\n",
       "    <tr>\n",
       "      <th>4</th>\n",
       "      <td>abdulta01</td>\n",
       "      <td>Tariq Abdul-Wahad</td>\n",
       "      <td>https://www.basketball-reference.com/players/a...</td>\n",
       "    </tr>\n",
       "  </tbody>\n",
       "</table>\n",
       "</div>"
      ],
      "text/plain": [
       "         _id                 name  \\\n",
       "0  abdelal01       Alaa Abdelnaby   \n",
       "1  abdulza01      Zaid Abdul-Aziz   \n",
       "2  abdulka01  Kareem Abdul-Jabbar   \n",
       "3  abdulma02   Mahmoud Abdul-Rauf   \n",
       "4  abdulta01    Tariq Abdul-Wahad   \n",
       "\n",
       "                                                 url  \n",
       "0  https://www.basketball-reference.com/players/a...  \n",
       "1  https://www.basketball-reference.com/players/a...  \n",
       "2  https://www.basketball-reference.com/players/a...  \n",
       "3  https://www.basketball-reference.com/players/a...  \n",
       "4  https://www.basketball-reference.com/players/a...  "
      ]
     },
     "execution_count": 6,
     "metadata": {},
     "output_type": "execute_result"
    }
   ],
   "source": [
    "salaries = pd.read_csv('temp_csvs/players_1985to2018.csv', sep = ',')\n",
    "IDs = salaries[['_id','name']]\n",
    "\n",
    "IDs['url'] = 'https://www.basketball-reference.com/players/' + IDs._id.str[0] + '/' + IDs._id + '.html'\n",
    "\n",
    "IDs.head()"
   ]
  },
  {
   "cell_type": "code",
   "execution_count": null,
   "metadata": {},
   "outputs": [],
   "source": [
    "dfs = []\n",
    "\n",
    "for i in range(len(IDs)):\n",
    "\n",
    "    url = IDs.iloc[i, 2]\n",
    "    name = IDs.iloc[i, 1]\n",
    "    r = requests.get(url)\n",
    "    soup = BeautifulSoup(r.content, 'html.parser')\n",
    "    placeholder = soup.select_one('#all_shooting .placeholder')\n",
    "    \n",
    "    if placeholder is not None: # some of the urls do not contain shooting stats tables\n",
    "        \n",
    "        comment = next(elem for elem in placeholder.next_siblings if isinstance(elem, Comment))\n",
    "        table_soup = BeautifulSoup(comment, 'html.parser')\n",
    "\n",
    "        headers = [th.getText() for th in table_soup.findAll('th')]\n",
    "        stop1 = headers.index('Career')  # there is a variable number of seasons to consider; 'Career'\n",
    "                                        # is the last 'th' after each season before format changes\n",
    "        seasons = headers[40:stop1] # seasons, which belong in rows but are also classified as 'th'\n",
    "        headers = headers[12:40] # headers we actually want\n",
    "        \n",
    "        data = [] # data for each header\n",
    "\n",
    "        rows = table_soup.find_all('tr')\n",
    "        for row in rows:\n",
    "            cells = row.find_all('td')\n",
    "            if cells:\n",
    "                data.append([cell.text for cell in cells])\n",
    "\n",
    "        stop2 = [a for (a, b) in enumerate(data) if b[0]==''][0]\n",
    "        data = data[:stop2] # leave out career averages/totals\n",
    "\n",
    "        shooting_df = pd.DataFrame(data, columns = headers)\n",
    "        shooting_df['Year'] = seasons\n",
    "        shooting_df.Year = pd.to_numeric(shooting_df.Year.str[:4]) # converting '2009-2010' string to '2009' integer\n",
    "        shooting_df['Full Name'] = name\n",
    "\n",
    "        df = shooting_df.iloc[:,[1,6,7,8,9,10,11,12,13,14,15,16,17,18,19,20,21,22,23,24,25,26,27,28,29]]\n",
    "\n",
    "        df.columns = ['Tm','FG%','Dist.','2P_A','0-3_A',\n",
    "                      '3-10_A','10-16_A','16-3pt_A','3P_A','2P%','0-3%','3-10%','10-16%','16-3pt%',\n",
    "                      '3P%',\"Astd_2P\",'Dunk%','Dunks_Md',\"Astd_3P\",'%Corner3_A','Corner_3P%','Heaves_A', \n",
    "                      'Heaves_Md','Year','Full Name']\n",
    "\n",
    "        df = df[['Full Name','Year','Tm','FG%','Dist.','2P_A','0-3_A','3-10_A', '10-16_A', '16-3pt_A', \n",
    "                 '3P_A', '2P%', '0-3%', '3-10%', '10-16%', '16-3pt%','3P%', \"Astd_2P\", 'Dunk%', \n",
    "                 'Dunks_Md', \"Astd_3P\", '%Corner3_A', 'Corner_3P%', 'Heaves_A', 'Heaves_Md']]\n",
    "\n",
    "        dfs.append(df)\n",
    "\n",
    "shot_df = pd.concat(dfs)"
   ]
  },
  {
   "cell_type": "code",
   "execution_count": null,
   "metadata": {},
   "outputs": [],
   "source": [
    "shot_df = shot_df.replace('',np.nan)"
   ]
  },
  {
   "cell_type": "code",
   "execution_count": null,
   "metadata": {},
   "outputs": [],
   "source": [
    "shot_df.iloc[:,range(3,25)] = shot_df.iloc[:,range(3,25)].astype('float')"
   ]
  },
  {
   "cell_type": "code",
   "execution_count": null,
   "metadata": {},
   "outputs": [],
   "source": [
    "file_loc = 'temp_csvs/shooting.csv'\n",
    "\n",
    "shot_df.to_csv(file_loc, sep = '\\t')"
   ]
  }
 ],
 "metadata": {
  "kernelspec": {
   "display_name": "Python 3",
   "language": "python",
   "name": "python3"
  },
  "language_info": {
   "codemirror_mode": {
    "name": "ipython",
    "version": 3
   },
   "file_extension": ".py",
   "mimetype": "text/x-python",
   "name": "python",
   "nbconvert_exporter": "python",
   "pygments_lexer": "ipython3",
   "version": "3.7.1"
  }
 },
 "nbformat": 4,
 "nbformat_minor": 2
}
